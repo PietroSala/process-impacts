{
 "cells": [
  {
   "cell_type": "code",
   "execution_count": null,
   "metadata": {},
   "outputs": [],
   "source": [
    "def print_sese_tree(expression, h = 0, probabilities={}, impacts={}, loop_thresholds = {}, outfile=\"out.png\"):\n",
    "    expression_tree = SESE_PARSER.parse(expression)\n",
    "    tree, id = dot_tree(expression_tree, 0, h, probabilities, impacts, loop_thresholds)\n",
    "    dot_string = \"digraph my_graph{\"+ tree +\"}\"\n",
    "    graph = pydot.graph_from_dot_data(dot_string)[0]\n",
    "    graph.write_png(outfile)\n",
    "    return Image.open(outfile)  \n",
    "\n",
    "def dot_tree(t, id=0, h=0,  prob={}, imp={}, loops={}, token_is_task=True):\n",
    "    if type(t) == Token:\n",
    "        label = (t.value)  \n",
    "        code = dot_task(id, label, h, imp[label] if label in imp else None) if token_is_task else dot_rectangle_node(id, label)\n",
    "        return code, id\n",
    "    if type(t) == Tree:\n",
    "        label = (t.data)\n",
    "        code = \"\"\n",
    "        last_id = id\n",
    "        child_ids = []\n",
    "        for i, c in enumerate(t.children):\n",
    "            if (label != 'xor_probability' or i != 1) and (label != 'loop_probability' or i !=0 ):\n",
    "                dot_code, last_id = dot_tree(c, last_id, h, prob, imp, loops)\n",
    "            else:    \n",
    "                dot_code, last_id = dot_tree(c, last_id, h, prob, imp, loops, token_is_task=False)\n",
    "            code += f'\\n {dot_code}'\n",
    "            child_ids.append(last_id)\n",
    "            last_id += 1\n",
    "        if label in {'xor', 'xor_probability'}:\n",
    "            code += dot_exclusive_gateway(last_id, label)\n",
    "        elif label in {'loop', 'loop_probability'}: \n",
    "            code += dot_loop_gateway(last_id, label)\n",
    "        elif label == 'parallel':\n",
    "            code += dot_parallel_gateway(last_id, label)        \n",
    "        else:    \n",
    "            code += f'\\n node_{last_id}[label=\"{label}\"];'\n",
    "        edge_labels = ['','',''] \n",
    "        if label == \"xor_probability\":\n",
    "            prob_key = t.children[1].value\n",
    "            edge_labels = [f'{prob[prob_key] if prob_key  in prob else 0.5 }','',\n",
    "                           f'{1 - prob[prob_key] if prob_key  in prob else 0.5 }']\n",
    "        if label == \"loop_probability\":\n",
    "            prob_key = t.children[0].value\n",
    "            edge_labels = [f'{loops[prob_key] if prob_key  in loops else 0.5 }','']     \n",
    "        for ei,i in enumerate(child_ids):\n",
    "            edge_label = edge_labels[ei]\n",
    "            code += f'\\n node_{last_id} -> node_{i} [label=\"{edge_label}\"];'\n",
    "        return code, last_id "
   ]
  }
 ],
 "metadata": {
  "language_info": {
   "name": "python"
  },
  "orig_nbformat": 4
 },
 "nbformat": 4,
 "nbformat_minor": 2
}
