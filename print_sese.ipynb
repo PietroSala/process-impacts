{
 "cells": [
  {
   "cell_type": "code",
   "execution_count": null,
   "metadata": {},
   "outputs": [],
   "source": [
    "def get_tasks(t):\n",
    "    trees = [subtree for subtree in t.iter_subtrees()]\n",
    "    v = {subtree.children[0].value for subtree in   filter(lambda x: x.data == 'task', trees)}\n",
    "    return v\n",
    "\n",
    "def dot_task(id, name, h=0, imp=None):\n",
    "    label = name\n",
    "    if imp is not None:\n",
    "        if h == 0:\n",
    "            label += str(imp)\n",
    "        else: \n",
    "            label += str(imp[0:-h])\n",
    "            label += str(imp[-h:])    \n",
    "    return f'node_{id}[label=\"{label}\", shape=rectanble style=\"rounded,filled\" fillcolor=\"lightblue\"];'\n",
    "\n",
    "def dot_exclusive_gateway(id, label=\"X\"):\n",
    "    return f'\\n node_{id}[shape=diamond label={label} style=\"filled\" fillcolor=orange];'    \n",
    "\n",
    "def dot_loop_gateway(id, label=\"X\"):\n",
    "    return f'\\n node_{id}[shape=diamond label={label} style=\"filled\" fillcolor=yellow];' \n",
    "\n",
    "def dot_parallel_gateway(id, label=\"+\"):\n",
    "    return f'\\n node_{id}[shape=diamond label={label} style=\"filled\" fillcolor=yellowgreen];'\n",
    "\n",
    "def dot_rectangle_node(id, label):\n",
    "    return f'\\n node_{id}[shape=rectangle label={label}];'  "
   ]
  }
 ],
 "metadata": {
  "language_info": {
   "name": "python"
  },
  "orig_nbformat": 4
 },
 "nbformat": 4,
 "nbformat_minor": 2
}
